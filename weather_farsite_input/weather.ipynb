{
 "cells": [
  {
   "cell_type": "code",
   "execution_count": 2,
   "metadata": {},
   "outputs": [],
   "source": [
    "import pandas as pd\n",
    "import seaborn as sns\n",
    "import numpy as np"
   ]
  },
  {
   "cell_type": "code",
   "execution_count": 3,
   "metadata": {},
   "outputs": [],
   "source": [
    "df_weather = pd.read_csv(\"Fire_temp_2017_clim.csv\")"
   ]
  },
  {
   "cell_type": "code",
   "execution_count": 24,
   "metadata": {},
   "outputs": [
    {
     "data": {
      "text/html": [
       "<div>\n",
       "<style scoped>\n",
       "    .dataframe tbody tr th:only-of-type {\n",
       "        vertical-align: middle;\n",
       "    }\n",
       "\n",
       "    .dataframe tbody tr th {\n",
       "        vertical-align: top;\n",
       "    }\n",
       "\n",
       "    .dataframe thead th {\n",
       "        text-align: right;\n",
       "    }\n",
       "</style>\n",
       "<table border=\"1\" class=\"dataframe\">\n",
       "  <thead>\n",
       "    <tr style=\"text-align: right;\">\n",
       "      <th></th>\n",
       "      <th>Tubss</th>\n",
       "      <th>Lon</th>\n",
       "      <th>Lat</th>\n",
       "      <th>Month</th>\n",
       "      <th>tmax_2017</th>\n",
       "      <th>tmin_2017</th>\n",
       "    </tr>\n",
       "  </thead>\n",
       "  <tbody>\n",
       "    <tr>\n",
       "      <th>45</th>\n",
       "      <td>CP1</td>\n",
       "      <td>-122.900000</td>\n",
       "      <td>38.40000</td>\n",
       "      <td>October</td>\n",
       "      <td>24.667259</td>\n",
       "      <td>7.222384</td>\n",
       "    </tr>\n",
       "    <tr>\n",
       "      <th>46</th>\n",
       "      <td>CP2</td>\n",
       "      <td>-122.500000</td>\n",
       "      <td>38.60000</td>\n",
       "      <td>October</td>\n",
       "      <td>23.910522</td>\n",
       "      <td>8.410995</td>\n",
       "    </tr>\n",
       "    <tr>\n",
       "      <th>47</th>\n",
       "      <td>CP3</td>\n",
       "      <td>-122.900000</td>\n",
       "      <td>38.40000</td>\n",
       "      <td>October</td>\n",
       "      <td>24.667259</td>\n",
       "      <td>7.222384</td>\n",
       "    </tr>\n",
       "    <tr>\n",
       "      <th>48</th>\n",
       "      <td>CP4</td>\n",
       "      <td>-122.500000</td>\n",
       "      <td>38.70000</td>\n",
       "      <td>October</td>\n",
       "      <td>24.934208</td>\n",
       "      <td>7.891125</td>\n",
       "    </tr>\n",
       "    <tr>\n",
       "      <th>49</th>\n",
       "      <td>CP5</td>\n",
       "      <td>-122.720306</td>\n",
       "      <td>38.44466</td>\n",
       "      <td>October</td>\n",
       "      <td>26.242319</td>\n",
       "      <td>8.074903</td>\n",
       "    </tr>\n",
       "  </tbody>\n",
       "</table>\n",
       "</div>"
      ],
      "text/plain": [
       "   Tubss         Lon       Lat    Month  tmax_2017  tmin_2017\n",
       "45   CP1 -122.900000  38.40000  October  24.667259   7.222384\n",
       "46   CP2 -122.500000  38.60000  October  23.910522   8.410995\n",
       "47   CP3 -122.900000  38.40000  October  24.667259   7.222384\n",
       "48   CP4 -122.500000  38.70000  October  24.934208   7.891125\n",
       "49   CP5 -122.720306  38.44466  October  26.242319   8.074903"
      ]
     },
     "execution_count": 24,
     "metadata": {},
     "output_type": "execute_result"
    }
   ],
   "source": [
    "df_tubbs_oct_2017 = df_weather[df_weather.Month == 'October']\n",
    "df_tubbs_oct_2017"
   ]
  },
  {
   "cell_type": "code",
   "execution_count": 34,
   "metadata": {},
   "outputs": [
    {
     "data": {
      "text/plain": [
       "3.2157919400000026"
      ]
     },
     "execution_count": 34,
     "metadata": {},
     "output_type": "execute_result"
    }
   ],
   "source": [
    "df_weather_rcp45 = pd.read_csv(\"RCP45_mean_tmax_tmin_2090.csv\")\n",
    "df_weather_rcp45_oct = df_weather_rcp45[df_weather_rcp45.Month == 'October']\n",
    "rcp45_oct_max_temperature_diff = df_weather_rcp45_oct[\"Tmax\"] - df_tubbs_oct_2017[\"tmax_2017\"]\n",
    "rcp_45_max_add = rcp45_oct_max_temperature_diff.max()\n",
    "rcp_45_max_add"
   ]
  },
  {
   "cell_type": "code",
   "execution_count": 35,
   "metadata": {},
   "outputs": [
    {
     "data": {
      "text/plain": [
       "3.583875175"
      ]
     },
     "execution_count": 35,
     "metadata": {},
     "output_type": "execute_result"
    }
   ],
   "source": [
    "rcp45_oct_min_temperature_diff = df_weather_rcp45_oct[\"Tmin\"] - df_tubbs_oct_2017[\"tmin_2017\"]\n",
    "rcp_45_min_add = rcp45_oct_min_temperature_diff.max()\n",
    "rcp_45_min_add"
   ]
  },
  {
   "cell_type": "code",
   "execution_count": 36,
   "metadata": {},
   "outputs": [
    {
     "data": {
      "text/plain": [
       "6.04079222"
      ]
     },
     "execution_count": 36,
     "metadata": {},
     "output_type": "execute_result"
    }
   ],
   "source": [
    "df_weather_rcp85 = pd.read_csv(\"Mean_all_models_future_2090.csv\")\n",
    "df_weather_rcp85_oct = df_weather_rcp85[df_weather_rcp85.Month == 'October']\n",
    "rcp85_oct_max_temperature_diff = df_weather_rcp85_oct[\"tmax_RCP85\"] - df_tubbs_oct_2017[\"tmax_2017\"]\n",
    "rcp85_oct_max_add = rcp85_oct_max_temperature_diff.max()\n",
    "rcp85_oct_max_add"
   ]
  },
  {
   "cell_type": "code",
   "execution_count": 37,
   "metadata": {},
   "outputs": [
    {
     "data": {
      "text/plain": [
       "6.308875325"
      ]
     },
     "execution_count": 37,
     "metadata": {},
     "output_type": "execute_result"
    }
   ],
   "source": [
    "rcp85_oct_min_temperature_diff = df_weather_rcp85_oct[\"tmin_RCP85\"] - df_tubbs_oct_2017[\"tmin_2017\"]\n",
    "rcp85_oct_min_add = rcp85_oct_min_temperature_diff.max()\n",
    "rcp85_oct_min_add"
   ]
  },
  {
   "cell_type": "code",
   "execution_count": 43,
   "metadata": {},
   "outputs": [],
   "source": [
    "a = np.array([[42, 84, 76, 17],\n",
    "[46, 84, 86, 13],\n",
    "[46, 85, 96, 8],\n",
    "[65, 82, 66, 9],\n",
    "[46, 78, 90, 20],\n",
    "[44, 72, 97, 29],\n",
    "[40, 71, 83, 19]])"
   ]
  },
  {
   "cell_type": "code",
   "execution_count": 53,
   "metadata": {},
   "outputs": [
    {
     "data": {
      "text/plain": [
       "array([42, 46, 46, 65, 46, 44, 40])"
      ]
     },
     "execution_count": 53,
     "metadata": {},
     "output_type": "execute_result"
    }
   ],
   "source": [
    "a[:,0]"
   ]
  },
  {
   "cell_type": "code",
   "execution_count": 51,
   "metadata": {},
   "outputs": [
    {
     "data": {
      "text/plain": [
       "array([48.45097532, 52.45097532, 52.45097532, 71.45097531, 52.45097532,\n",
       "       50.45097532, 46.45097532])"
      ]
     },
     "execution_count": 51,
     "metadata": {},
     "output_type": "execute_result"
    }
   ],
   "source": [
    "min_temp_col = a[:,0]\n",
    "min_temp_col + rcp_45_min_add*1.8"
   ]
  },
  {
   "cell_type": "code",
   "execution_count": 52,
   "metadata": {},
   "outputs": [
    {
     "data": {
      "text/plain": [
       "array([89.78842549, 89.78842549, 90.78842549, 87.78842549, 83.78842549,\n",
       "       77.78842549, 76.78842549])"
      ]
     },
     "execution_count": 52,
     "metadata": {},
     "output_type": "execute_result"
    }
   ],
   "source": [
    "max_temp_col = a[:,1]\n",
    "max_temp_col + rcp_45_max_add*1.8"
   ]
  },
  {
   "cell_type": "code",
   "execution_count": 55,
   "metadata": {},
   "outputs": [
    {
     "data": {
      "text/plain": [
       "array([53.35597558, 57.35597558, 57.35597558, 76.35597558, 57.35597558,\n",
       "       55.35597558, 51.35597558])"
      ]
     },
     "execution_count": 55,
     "metadata": {},
     "output_type": "execute_result"
    }
   ],
   "source": [
    "min_temp_col = a[:,0]\n",
    "min_temp_col + rcp85_oct_min_add*1.8"
   ]
  },
  {
   "cell_type": "code",
   "execution_count": 57,
   "metadata": {},
   "outputs": [
    {
     "data": {
      "text/plain": [
       "array([94.873426, 94.873426, 95.873426, 92.873426, 88.873426, 82.873426,\n",
       "       81.873426])"
      ]
     },
     "execution_count": 57,
     "metadata": {},
     "output_type": "execute_result"
    }
   ],
   "source": [
    "max_temp_col = a[:,1]\n",
    "max_temp_col + rcp85_oct_max_add*1.8"
   ]
  },
  {
   "cell_type": "code",
   "execution_count": null,
   "metadata": {},
   "outputs": [],
   "source": [
    "f_increase = "
   ]
  },
  {
   "cell_type": "code",
   "execution_count": 7,
   "metadata": {},
   "outputs": [
    {
     "data": {
      "text/plain": [
       "26.24231911"
      ]
     },
     "execution_count": 7,
     "metadata": {},
     "output_type": "execute_result"
    }
   ],
   "source": [
    "max_value = column.max()\n",
    "max_value"
   ]
  },
  {
   "cell_type": "code",
   "execution_count": 8,
   "metadata": {},
   "outputs": [
    {
     "data": {
      "text/plain": [
       "8.410995482999999"
      ]
     },
     "execution_count": 8,
     "metadata": {},
     "output_type": "execute_result"
    }
   ],
   "source": [
    "min_value_2017 = column_min_2017.max()\n",
    "min_value_2017"
   ]
  },
  {
   "cell_type": "code",
   "execution_count": 9,
   "metadata": {},
   "outputs": [],
   "source": [
    "df_weather_2090 = pd.read_csv(\"Fire_temp_2090_clim_V2.csv\")\n",
    "df_weather_2090_oct = df_weather_2090[df_weather_2090.Month == 'October']"
   ]
  },
  {
   "cell_type": "code",
   "execution_count": 12,
   "metadata": {},
   "outputs": [],
   "source": [
    "column_2090 = df_weather_2090_oct[\"tmax_RCP85\"]\n",
    "max_value_2090 = column_2090.max()"
   ]
  },
  {
   "cell_type": "code",
   "execution_count": 13,
   "metadata": {},
   "outputs": [
    {
     "data": {
      "text/plain": [
       "33.90000153"
      ]
     },
     "execution_count": 13,
     "metadata": {},
     "output_type": "execute_result"
    }
   ],
   "source": [
    "max_value_2090 "
   ]
  },
  {
   "cell_type": "code",
   "execution_count": 34,
   "metadata": {},
   "outputs": [
    {
     "data": {
      "text/plain": [
       "21.10000038"
      ]
     },
     "execution_count": 34,
     "metadata": {},
     "output_type": "execute_result"
    }
   ],
   "source": [
    "column_min_2090 = df_weather_2090[\"tmin_RCP85\"]\n",
    "min_value_2090 = column_min_2090.max()\n",
    "min_value_2090"
   ]
  },
  {
   "cell_type": "code",
   "execution_count": 37,
   "metadata": {},
   "outputs": [
    {
     "data": {
      "text/plain": [
       "12.689004897000002"
      ]
     },
     "execution_count": 37,
     "metadata": {},
     "output_type": "execute_result"
    }
   ],
   "source": [
    "min_gap = min_value_2090 - min_value_2017\n",
    "min_gap"
   ]
  },
  {
   "cell_type": "code",
   "execution_count": 42,
   "metadata": {},
   "outputs": [],
   "source": [
    "max_gap = max_value_2090 - max_value"
   ]
  },
  {
   "cell_type": "code",
   "execution_count": 25,
   "metadata": {},
   "outputs": [
    {
     "data": {
      "text/plain": [
       "42.146580889999996"
      ]
     },
     "execution_count": 25,
     "metadata": {},
     "output_type": "execute_result"
    }
   ],
   "source": [
    "28.8889 + 13.25768089"
   ]
  },
  {
   "cell_type": "code",
   "execution_count": 26,
   "metadata": {},
   "outputs": [
    {
     "data": {
      "text/plain": [
       "42.702080890000005"
      ]
     },
     "execution_count": 26,
     "metadata": {},
     "output_type": "execute_result"
    }
   ],
   "source": [
    "29.4444 + 13.25768089"
   ]
  },
  {
   "cell_type": "code",
   "execution_count": 27,
   "metadata": {},
   "outputs": [
    {
     "data": {
      "text/plain": [
       "41.03548089"
      ]
     },
     "execution_count": 27,
     "metadata": {},
     "output_type": "execute_result"
    }
   ],
   "source": [
    "27.7778 + 13.25768089"
   ]
  },
  {
   "cell_type": "code",
   "execution_count": 28,
   "metadata": {},
   "outputs": [
    {
     "data": {
      "text/plain": [
       "38.81328089"
      ]
     },
     "execution_count": 28,
     "metadata": {},
     "output_type": "execute_result"
    }
   ],
   "source": [
    "25.5556 + 13.25768089"
   ]
  },
  {
   "cell_type": "code",
   "execution_count": 29,
   "metadata": {},
   "outputs": [
    {
     "data": {
      "text/plain": [
       "35.479880890000004"
      ]
     },
     "execution_count": 29,
     "metadata": {},
     "output_type": "execute_result"
    }
   ],
   "source": [
    "22.2222 + 13.25768089"
   ]
  },
  {
   "cell_type": "code",
   "execution_count": 38,
   "metadata": {},
   "outputs": [
    {
     "data": {
      "text/plain": [
       "18.244564897000004"
      ]
     },
     "execution_count": 38,
     "metadata": {},
     "output_type": "execute_result"
    }
   ],
   "source": [
    "5.55556 + min_gap"
   ]
  },
  {
   "cell_type": "code",
   "execution_count": 39,
   "metadata": {},
   "outputs": [
    {
     "data": {
      "text/plain": [
       "20.466784897000004"
      ]
     },
     "execution_count": 39,
     "metadata": {},
     "output_type": "execute_result"
    }
   ],
   "source": [
    "7.77778 + min_gap"
   ]
  },
  {
   "cell_type": "code",
   "execution_count": 40,
   "metadata": {},
   "outputs": [
    {
     "data": {
      "text/plain": [
       "31.022304897000005"
      ]
     },
     "execution_count": 40,
     "metadata": {},
     "output_type": "execute_result"
    }
   ],
   "source": [
    "18.3333 + min_gap"
   ]
  },
  {
   "cell_type": "code",
   "execution_count": 41,
   "metadata": {},
   "outputs": [
    {
     "data": {
      "text/plain": [
       "19.355674897"
      ]
     },
     "execution_count": 41,
     "metadata": {},
     "output_type": "execute_result"
    }
   ],
   "source": [
    "6.66667 + min_gap"
   ]
  },
  {
   "cell_type": "code",
   "execution_count": 43,
   "metadata": {},
   "outputs": [
    {
     "data": {
      "text/plain": [
       "35.479880890000004"
      ]
     },
     "execution_count": 43,
     "metadata": {},
     "output_type": "execute_result"
    }
   ],
   "source": [
    "22.2222 + max_gap"
   ]
  },
  {
   "cell_type": "code",
   "execution_count": 44,
   "metadata": {},
   "outputs": [
    {
     "data": {
      "text/plain": [
       "17.133444897000004"
      ]
     },
     "execution_count": 44,
     "metadata": {},
     "output_type": "execute_result"
    }
   ],
   "source": [
    "4.44444 + min_gap"
   ]
  },
  {
   "cell_type": "code",
   "execution_count": 45,
   "metadata": {},
   "outputs": [
    {
     "data": {
      "text/plain": [
       "34.924380889999995"
      ]
     },
     "execution_count": 45,
     "metadata": {},
     "output_type": "execute_result"
    }
   ],
   "source": [
    "21.6667 + max_gap"
   ]
  },
  {
   "cell_type": "code",
   "execution_count": null,
   "metadata": {},
   "outputs": [],
   "source": []
  }
 ],
 "metadata": {
  "kernelspec": {
   "display_name": "Python 3",
   "language": "python",
   "name": "python3"
  },
  "language_info": {
   "codemirror_mode": {
    "name": "ipython",
    "version": 3
   },
   "file_extension": ".py",
   "mimetype": "text/x-python",
   "name": "python",
   "nbconvert_exporter": "python",
   "pygments_lexer": "ipython3",
   "version": "3.8.2"
  }
 },
 "nbformat": 4,
 "nbformat_minor": 4
}
