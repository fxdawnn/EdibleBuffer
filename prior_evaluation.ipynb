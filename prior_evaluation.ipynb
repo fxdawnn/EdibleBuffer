{
 "cells": [
  {
   "cell_type": "code",
<<<<<<< HEAD
=======
   "execution_count": 1,
   "metadata": {},
   "outputs": [],
   "source": [
    "import gdal"
   ]
  },
  {
   "cell_type": "code",
   "execution_count": 2,
   "metadata": {},
   "outputs": [],
   "source": [
    "from osgeo import gdal"
   ]
  },
  {
   "cell_type": "code",
   "execution_count": 3,
   "metadata": {},
   "outputs": [],
   "source": [
    "gdal.UseExceptions()"
   ]
  },
  {
   "cell_type": "code",
>>>>>>> parent of 5f2af87 (Modify for public code and figure)
   "execution_count": 4,
   "metadata": {},
   "outputs": [
    {
<<<<<<< HEAD
     "data": {
      "image/png": "iVBORw0KGgoAAAANSUhEUgAAAYAAAAEJCAYAAACdePCvAAAABHNCSVQICAgIfAhkiAAAAAlwSFlzAAALEgAACxIB0t1+/AAAADh0RVh0U29mdHdhcmUAbWF0cGxvdGxpYiB2ZXJzaW9uMy4yLjIsIGh0dHA6Ly9tYXRwbG90bGliLm9yZy+WH4yJAAAVGklEQVR4nO3df1BU56HG8Wf5afytU1GTMI5GrLZMjKEKJCpqIuIP1AilmAxObDTaGr3RTiOxWpsYldg0jGnsUHOdpjd6pwGrRpmEUYs6sagZcYpDp1HTioSJRdKICph1hb1/eN2ERJYV9uxheb+ff5bD7tnz8AL77Ltnz1mH2+12CwBgnBC7AwAA7EEBAIChKAAAMBQFAACGogAAwFBhdgfwVVNTk+rr6xUeHi6Hw2F3HAAICm63Wy6XS926dVNISPPn/EFTAPX19Tp79qzdMQAgKA0bNkw9evRo9r2gKYDw8HBJt36IiIgIm9MAQHC4ceOGzp4963kM/bqgKYDbL/tEREQoMjLS5jQAEFzu9NI5O4EBwFAUAAAYigIAAENRAABgKAoAAAxFAQCAoSgAAGiD48ePa8WKFTp+/LjdUdosaI4DAICO5O2339a5c+fU0NCghIQEu+O0CTMAAGiDhoaGZpfBiAIAAENRAABgKAoAAAxFAQCAoSgAADAUBQAAhqIAAMBQFABgiM5w5Cr8iyOBAUN0hiNX4V/MAABDdIYjV+FfFAAAGIoCAABDUQAAYCgKAAAMRQEAgKEoAAAwFAUAAIaiAAAEncYbLrsjdBjtGQuOBEaHdvz4ceXn5ysjI4OjV+ERGhGu9+fNtzVDw7+rPZd2Zpn2P39o87oUADo0Tl8AWIeXgNChcfoCwDoUAAAYigIAAENRAABgKAoAAAxlaQG8+eabmj59uqZPn65NmzZJkkpKSpSamqrk5GTl5uZauXmgQ7lxk/eu38ZYdAyWvQ20pKRER48e1e7du+VwOLRgwQIVFhbqtdde0zvvvKOBAwdq0aJFOnLkiJKSkqyKAXQYEWHhevoP/2Xb9quv1ngu7cwhSW/P32zr9nGLZTOAfv36KTs7WxEREQoPD9cDDzygiooKDRo0SNHR0QoLC1NqaqqKioqsigAA8MKyAoiJidFDDz0kSaqoqNAHH3wgh8Ohfv36eW4TFRWl6upqqyIAALyw/Ejgc+fOadGiRXrhhRcUGhqqiooKz3Vut1sOh+Ou7q+8vNzPCdGROZ1Oz2VpaanNadonLi7O7ggdSnt+n4xlc20dS0sLoLS0VMuWLdOqVas0ffp0ffTRR6qpqfFcX1NTo6ioqLu6z9jYWEVGRvo7qt9w7hr/uv27joyM5J++k+H36T/extLpdLb4xNmyArh48aKWLFmi3NxcJSYmSpJGjhyp8+fP68KFC7r//vtVWFiotLQ0qyLYgnPXAAgWlhXAtm3b5HQ6lZOT4/leZmamcnJytHTpUjmdTiUlJSklJcWqCLbg3DUAgoVlBbB69WqtXr36jtft3bvXqs0CAHzEkcAA0AbhIY5ml8GIAgCANni0Z29FR0Tq0Z697Y7SZnwgDAC0wZAu92hIl3vsjtEuzAAAwFAUAAAYigIAAENRAABgKAoAAAxFAQCGcISHNLsE+EsADNHrwf6K7N9NvR7sb3cUdBAcBwAY4p77e+ie+3vYHQMdCDMAADAUBQAAhqIAAMBQFAAAGKpTFcANV6PdEToMxgJAazrVu4AiwkP15As7bM3w+efXJEn//vyarVn+d9NTtm0bQHDoVDMAAIDvKAAAMBQFAACGogDQoqabLrsjdBiMBTqjTrUTGP4VEhau0k0LbM3gvFztubQzS9wL/23btgGrMAMAAENRAABgKAoAAAxFAQCAoSgAADAUBQAAhqIAAMBQFAAAGIoCAABDUQAAYCgKwM8coeHNLgGgo6IA/Kz7vQ8rvPsAdb/3YbujAIBXnAzOzyJ7RSuyV7TdMQCgVZbOAOrq6jRjxgxVVVVJkl588UUlJydr1qxZmjVrlg4cOGDl5gEAXlg2AygrK9Pq1atVUVHh+V55ebm2b9+uqKgoqzYLAPCRZTOA/Px8rV271vNgf/36dX322WdatWqVUlNT9cYbb6ipqcmqzQMAWmFZAaxfv14/+MEPPMuff/65EhIStGHDBuXn5+vkyZPauXOnVZsHALQiYDuBo6OjtWXLFs9yVlaW9uzZo4yMjLu6n/Ly8havi4uLa3O+zqi0tLRd6zOezTGe/tWe8WQsm2vrWAasAM6cOaOKigpNmTJFkuR2uxUWdvebj42NVWRkpL/jdUr8k/gX4+lfjKf/eBtLp9PZ4hPngB0H4Ha7tWHDBl25ckUul0vvvvuuJk+eHKjNAwC+IWAzgOHDh+vZZ5/V3LlzdfPmTSUnJ2vGjBmB2jwA4BssL4Di4mLP10899ZSeeuopqzcJAPCB1wIYNWqUHA7Ht77vdrvlcDh06tQpy4IBAKzltQAKCwsDlQMAEGBeC+Dvf/+715Xvu+8+v4YBAASO1wJ45513WrzO4XAoOTnZ74EAAIHR5gIAAAQ3rwWwfv16/eIXv9DixYvveH1eXp4loQAA1vNaAImJiZLkOXoXANB5eC2ASZMmSZKeeOIJXb58WX/7298UFhamkSNHqmfPngEJCACwhk8Hgh0+fFgrV65UTEyMGhsb9emnnyo3N1ejR4+2Oh8MFxkW0uwSgP/4VACbN2/W9u3bFRMTI+nW20PXrFmjXbt2WRoOSB7aR0fOX1HS4F52RwE6HZ8KwOFweB78Jen73/++3G63ZaGA20b066oR/braHQPolLzOq2tra1VbW6vY2Fht27ZN9fX1un79unbs2KGEhIRAZQQAWMDrDCAhIUEOh8PzbP/Xv/61Z9nhcGjlypUBCQkA8D+vBfDxxx+3egeFhYWc1hkAglC731qxbds2f+QAAARYuwuAncEAEJzaXQB3+rwAAEDHx9E1AGAoCgAADMU+AAAwVLsLIDU11R85AAAB5vU4gNYe3Pft26dnnnnGr4EAAIHhtQDWrFkTqBwAgADzWgBjxozxfF1bW6vr16/L7XarsbFRlZWVlocDAFjH59NBb926VZIUGhoql8uloUOHat++fZaGAwBYx6edwO+9954OHTqkKVOmaP/+/dq4caOGDh1qdTYAgIV8KoC+ffsqKipKQ4YM0ccff6zZs2fr7NmzVmcDAFjIpwIICwtTZWWlhgwZopMnT+rmzZtyOp1WZwMAWMinAli0aJHWrFmjCRMm6MCBA5owYQIfCAMAQc6nncDf+9739Mc//lGStGfPHl24cEEhIZxFAgCCmU8fCblw4UJduXJFtbW1cjqd+s53vqNly5YFKiMAwAJeZwA/+9nP9Ne//lWSFB8f/9VKYWGaMmWKtckAAJbyWgC3P+3rxRdf1MaNGwMSCAAQGD7tA9i4caPKysr04YcfyuVyaezYsRo9erTV2QAAFvJpT+6ePXu0bNkyXblyRfX19VqxYoXy8/OtzgYAsJBPM4C3335bBQUFioqKkiQtXLhQzzzzjDIyMiwNBwCwjk8zgKamJs+DvyT179/fp7eB1tXVacaMGaqqqpIklZSUKDU1VcnJycrNzW1jZACAP/hUAL1799bBgwc9ywcPHlSvXr28rlNWVqa5c+eqoqJCkvTll19q1apV+t3vfqf3339f5eXlOnLkSNuTAwDaxacCWLp0qV599VUlJSUpKSlJOTk5Wr16tdd18vPztXbtWs/M4fTp0xo0aJCio6MVFham1NRUFRUVtf8nAAC0idd9ALW1tZKkdevWqaCgQJ988okcDofuu+8+Pf30014fwNevX99s+dKlS+rXr59nOSoqStXV1XcduLy8vMXr4uLi7vr+OrPS0tJ2rc94Nsd4+ld7xpOxbK6tY+nzgWCJiYmSbn0IfFsOBGtqapLD4fAsu93uZsu+io2NVWRk5F2vZyL+SfyL8fQvxtN/vI2l0+ls8YlzwA4EGzBggGpqajzLNTU1zXYsAwACy6d9AP44CnjkyJE6f/68Lly4oMbGRhUWFmr8+PHtvl8AQNv4dByAP0RGRionJ0dLly6V0+lUUlKSUlJSArV5AMA3WF4AxcXFnq8TExO1d+9eqzcJAPABJ/UHAENRAABgKAoAAAxFAQCAoSgAADAUBQAAhqIAAMBQFAAAGIoCAABDUQAAYCgKAAAMRQEAgKEoAAAwFAUAAIaiAADAUBQAABiKAgAAQ1EAAGAoCgAADEUBAIChKAAAMBQFAACGogAAwFAUAAAYigIAAENRAABgKAoAAAxFAQCAoSgAADAUBQAAhqIAAMBQFAAAGIoCAABDUQAAYCgKAAAMFWbHRrOysvTFF18oLOzW5l9++WWNHDnSjigAYKyAF4Db7VZFRYUOHTrkKQAAQOAF/CWgf/3rX5KkH//4x5o5c6a2b98e6AgAANkwA7h69aoSExO1Zs0auVwuzZs3T4MHD9ajjz7q0/rl5eUtXhcXF+evmJ1CaWlpu9ZnPJtjPP2rPePJWDbX1rEMeAGMGjVKo0aN8iynp6fryJEjPhdAbGysIiMjrYrXqfBP4l+Mp38xnv7jbSydTmeLT5wD/hLQyZMndezYMc+y2+1mXwAA2CDgBXDt2jVt2rRJTqdTdXV12r17tyZPnhzoGABgvIA/9Z44caLKyso0e/ZsNTU16cknn2z2khAAIDBsee3l+eef1/PPP2/HpgEA/48jgQHAUBQAABiKAgAAQ1EAAGAoCgAADEUBAIChKAAAMBQFAACGogAAwFAUAAAYigIAAENRAABgKAoAAAxFAQCAoSgAADAUBQAAhqIAAMBQFAAAGIoCAABDUQAAYCgKAAAMRQEAgKEoAAAwFAUAAIaiAADAUBQAABiKAgAAQ1EAAGAoCgAADEUBAIChKAAAMBQFAACGogAAwFAUAAAYigIAAEPZUgD79u3TtGnTlJycrB07dtgRAQCMFxboDVZXVys3N1e7du1SRESEMjMzFR8fr6FDhwY6CgAYLeAFUFJSooSEBPXu3VuSNGXKFBUVFem5557zup7b7ZYk3bhxw+vtenYN90/QIOd0Ov1zR116+Od+gpy/xrNHeDe/3E+w88d4hvTgb1NqfSxvP2befgz9Oof7Tt+10O9//3s1NDRo+fLlkqSCggKdPn1a69at87retWvXdPbs2UBEBIBOZ9iwYerxjdIM+AygqalJDofDs+x2u5stt6Rbt24aNmyYwsPDfbo9AODWY6zL5VK3bt+efQa8AAYMGKCTJ096lmtqahQVFdXqeiEhId9qLwBA67p06XLH7wf8XUCPPPKIjh07pi+++ELXr1/X/v37NX78+EDHAADjBXwG0L9/fy1fvlzz5s2Ty+VSenq6HnzwwUDHAADjBXwnMACgY+BIYAAwFAUAAIaiAADAUBQAABgq4O8CClYvvfSSTp06JZfLpcrKSj3wwAOSpKtXr2rOnDlaunSpzQmDX1VVlVJSUjxje1teXp4GDhzoWV64cKFeeeUV9e/fP9ARg0JRUZG2bt2qmzdvyu12a9asWVqwYEGLt8/Pz1fXrl01Y8aMAKYMDnc7lsGGAvDR2rVrJd16kJo3b57ee+89SdJvf/tbO2N1OlFRUZ6xbclbb70VoDTBp7q6Wq+++qp27dqlPn36qL6+XllZWRo8eLAee+yxO65z6tQpjRkzJsBJO762jGWw4SUgPzh9+rQyMzM1ceJETyHs2rVL2dnZnttkZWXpxIkTOnHihNLT0zVnzhytXLnSrshBJTs7W4sXL9bUqVNVXFysSZMmqaqqyu5YHdLly5flcrn05ZdfSrp1CpWcnBwNHTpUH3zwgTIyMjRz5kylpKTo1KlTKikpUXFxsd544w19+OGHNqfvWLyN5df/Bk+cOKGsrCxJt/7PN23apB/96EeaPHmyjhw5Ylt+XzAD8IP//Oc/+tOf/qS6ujpNmjRJ8+fP93r7iooKHTp0iFNb3MGlS5c0a9Ysz3JqaqokqXfv3srLy5MkvfLKK7ZkCwbDhw/XY489pscff1wjRoxQfHy8UlNTFR0drV/+8pfKy8tT3759tXPnTm3dulV5eXmaNGmSxowZo3Hjxtkdv0NpaSwHDRrkdT2Xy6V3331XxcXF2rx5s5KSkgKU+O5RAH4wbtw4RUREqG/fvurTp4+uXLni9faDBw/mwb8Fd3oJKDs7m6PF78JLL72kn/70pzp69KiOHj2qjIwMvfbaa9qyZYuKi4t1/vx5ffTRRwoJ4QWA1rQ0lt7cLtKYmBjV1tYGImabUQB+EBb21TA6HA7PGU6/fpC1y+XyfN3SiZnQMsbMN4cPH1ZDQ4OmTZumtLQ0paWlKT8/Xzt27NDrr7+umTNnavTo0frud7/Lp/G1oqWx3Llzp6Svzq9/8+bNZutFRkZKUlCctZinABbp06eP/vnPf8rtduvTTz/VmTNn7I4EA3Tp0kW/+c1vPK9Pu91u/eMf/1BERIQcDocWL16s+Ph4HThwQI2NjZKk0NBQz9f4SktjOWLECPXp00effPKJJOkvf/mLnTHbhRmARR555BH9+c9/VkpKigYPHqy4uDi7I8EACQkJeu6557R48WLPrHPcuHHasmWLsrOzNXXqVDkcDo0dO1alpaWSbv2tvv766+rRo4dSUlLsjN+htDSWS5Ys0cMPP6x169bpzTff1NixY21O2nacDA4ADMVLQABgKAoAAAxFAQCAoSgAADAUBQAAhqIAgLtUVFTkOfcLEMwoAAAwFAUA+GDz5s16/PHHlZ6ergMHDkiSzp8/r/nz5ysjI0MTJ07UT37yEzmdTu3du1eZmZmedT/77DONHTtWN27csCs+cEcUANCKgwcPav/+/dqzZ4/nrK/SrQ9SmT17tvLz87V//35VVVXp8OHDSklJUWVlpc6dOydJKigo0BNPPKGIiAg7fwzgWygAoBXHjh3T5MmT1b17d4WFhSktLU2S9POf/1x9+/bVW2+9pV/96le6dOmSGhoaFBERoR/+8IcqKChQY2Ojdu/erYyMDJt/CuDbOBcQ4IOvnzElNDRUkrRixQo1NjZq6tSpmjBhgi5evOi5XWZmptLT0zVmzBjFxMQoOjraltyAN8wAgFaMHz9eRUVFunr1qpqamjyfV3D06FEtWbJE06ZNkySVlZV5zqo5cOBAPfTQQ9qwYYPmzp1rW3bAG2YAQCuSkpJ05swZpaWlqWfPnho+fLguX76s5cuXa8mSJeratau6d++u0aNHq7Ky0rPenDlztG7dug79iVAwG2cDBSzQ1NSkl19+Wffee6+effZZu+MAd8RLQICf1dXVKT4+XhcvXtS8efPsjgO0iBkAABiKGQAAGIoCAABDUQAAYCgKAAAMRQEAgKEoAAAw1P8BbqccesXh7kQAAAAASUVORK5CYII=\n",
      "text/plain": [
       "<Figure size 432x288 with 1 Axes>"
      ]
     },
     "metadata": {},
     "output_type": "display_data"
    }
   ],
   "source": [
    "import seaborn as sns\n",
    "sns.set(style=\"whitegrid\")\n",
    "tips = sns.load_dataset(\"tips\")\n",
    "ax = sns.barplot(x=\"day\", y=\"total_bill\", data=tips)"
=======
     "ename": "NameError",
     "evalue": "name 'lyr' is not defined",
     "output_type": "error",
     "traceback": [
      "\u001b[0;31m---------------------------------------------------------------------------\u001b[0m",
      "\u001b[0;31mNameError\u001b[0m                                 Traceback (most recent call last)",
      "\u001b[0;32m<ipython-input-4-72d5d48a6d1a>\u001b[0m in \u001b[0;36m<module>\u001b[0;34m\u001b[0m\n\u001b[0;32m----> 1\u001b[0;31m \u001b[0mfeat\u001b[0m \u001b[0;34m=\u001b[0m \u001b[0mlyr\u001b[0m\u001b[0;34m.\u001b[0m\u001b[0mGetNextFeature\u001b[0m\u001b[0;34m(\u001b[0m\u001b[0;34m)\u001b[0m\u001b[0;34m\u001b[0m\u001b[0;34m\u001b[0m\u001b[0m\n\u001b[0m",
      "\u001b[0;31mNameError\u001b[0m: name 'lyr' is not defined"
     ]
    }
   ],
   "source": [
    "feat = lyr.GetNextFeature()"
>>>>>>> parent of 5f2af87 (Modify for public code and figure)
   ]
  },
  {
   "cell_type": "code",
   "execution_count": 5,
   "metadata": {},
<<<<<<< HEAD
   "outputs": [
    {
     "data": {
      "image/png": "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\n",
      "text/plain": [
       "<Figure size 432x288 with 1 Axes>"
      ]
     },
     "metadata": {},
     "output_type": "display_data"
    }
   ],
   "source": [
    "ax = sns.barplot(x=\"day\", y=\"total_bill\", hue=\"sex\", data=tips)"
=======
   "outputs": [],
   "source": [
    "import os\n",
    "import sys"
   ]
  },
  {
   "cell_type": "code",
   "execution_count": 6,
   "metadata": {},
   "outputs": [],
   "source": [
    "sys.path.append( '../pymod' )"
   ]
  },
  {
   "cell_type": "code",
   "execution_count": 7,
   "metadata": {},
   "outputs": [
    {
     "ename": "NameError",
     "evalue": "name 'lcp_1' is not defined",
     "output_type": "error",
     "traceback": [
      "\u001b[0;31m---------------------------------------------------------------------------\u001b[0m",
      "\u001b[0;31mNameError\u001b[0m                                 Traceback (most recent call last)",
      "\u001b[0;32m<ipython-input-7-d8eff1cd5ed9>\u001b[0m in \u001b[0;36m<module>\u001b[0;34m\u001b[0m\n\u001b[0;32m----> 1\u001b[0;31m \u001b[0mtesting\u001b[0m \u001b[0;34m=\u001b[0m \u001b[0mlcp_1\u001b[0m\u001b[0;34m(\u001b[0m\u001b[0;34m)\u001b[0m\u001b[0;34m\u001b[0m\u001b[0;34m\u001b[0m\u001b[0m\n\u001b[0m",
      "\u001b[0;31mNameError\u001b[0m: name 'lcp_1' is not defined"
     ]
    }
   ],
   "source": [
    "testing = lcp_1()"
   ]
  },
  {
   "cell_type": "code",
   "execution_count": 8,
   "metadata": {},
   "outputs": [],
   "source": [
    "ds = gdal.Open('landscape_lcp/Landscape_1.lcp')"
>>>>>>> parent of 5f2af87 (Modify for public code and figure)
   ]
  },
  {
   "cell_type": "code",
   "execution_count": null,
   "metadata": {},
   "outputs": [],
   "source": []
  }
 ],
 "metadata": {
  "kernelspec": {
<<<<<<< HEAD
   "display_name": "Python 3",
   "language": "python",
   "name": "python3"
=======
   "display_name": "Python 2",
   "language": "python",
   "name": "python2"
>>>>>>> parent of 5f2af87 (Modify for public code and figure)
  },
  "language_info": {
   "codemirror_mode": {
    "name": "ipython",
    "version": 3
   },
   "file_extension": ".py",
   "mimetype": "text/x-python",
   "name": "python",
   "nbconvert_exporter": "python",
   "pygments_lexer": "ipython3",
<<<<<<< HEAD
   "version": "3.8.2"
=======
   "version": "3.9.7"
>>>>>>> parent of 5f2af87 (Modify for public code and figure)
  }
 },
 "nbformat": 4,
 "nbformat_minor": 4
}
